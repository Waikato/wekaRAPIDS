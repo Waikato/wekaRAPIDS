{
 "cells": [
  {
   "cell_type": "code",
   "execution_count": 30,
   "id": "61ddeda5-878e-4b5f-99ff-80abf4facc7c",
   "metadata": {},
   "outputs": [],
   "source": [
    "import pandas as pd\n",
    "import glob"
   ]
  },
  {
   "cell_type": "code",
   "execution_count": 48,
   "id": "c5223fe2-cf8f-4450-a254-659fbff45c01",
   "metadata": {},
   "outputs": [],
   "source": [
    "clean_TAC_files = glob.glob('../acceweka-ds/bar-crawl/*_clean_TAC.csv')\n",
    "df_list = []\n",
    "for name in clean_TAC_files:\n",
    "    df_label = pd.read_csv(name)\n",
    "    pid = name.split('/')[-1][:6]\n",
    "    df_label['pid'] = pid\n",
    "    df_list.append(df_label)\n",
    "\n",
    "df_label = pd.concat(df_list)\n",
    "df_label['timestamp'] = df_label['timestamp'] * 1000\n",
    "df_data = pd.read_csv('../acceweka-ds/bar-crawl/Bar_Crawl.csv')\n",
    "df_data = df_data.rename(columns={'time':'timestamp'})\n",
    "df = pd.merge_asof(df_data, df_label.sort_values('timestamp'), on='timestamp', by='pid', direction='nearest')"
   ]
  },
  {
   "cell_type": "code",
   "execution_count": 52,
   "id": "79e489a6-4626-46d0-af0c-b6d1ca98d1f3",
   "metadata": {},
   "outputs": [],
   "source": [
    "df.to_csv('../acceweka-ds/bar-crawl/Bar_Crawl_Labeled.csv', index=False)"
   ]
  },
  {
   "cell_type": "code",
   "execution_count": 59,
   "id": "c3efe8e0-c910-405e-a1de-d2a473720b1c",
   "metadata": {},
   "outputs": [],
   "source": [
    "df['label'] = df['label'].astype(int)"
   ]
  },
  {
   "cell_type": "code",
   "execution_count": 60,
   "id": "7cd06282-1d25-473b-bb84-25dc45d1f117",
   "metadata": {},
   "outputs": [
    {
     "data": {
      "text/html": [
       "<div>\n",
       "<style scoped>\n",
       "    .dataframe tbody tr th:only-of-type {\n",
       "        vertical-align: middle;\n",
       "    }\n",
       "\n",
       "    .dataframe tbody tr th {\n",
       "        vertical-align: top;\n",
       "    }\n",
       "\n",
       "    .dataframe thead th {\n",
       "        text-align: right;\n",
       "    }\n",
       "</style>\n",
       "<table border=\"1\" class=\"dataframe\">\n",
       "  <thead>\n",
       "    <tr style=\"text-align: right;\">\n",
       "      <th></th>\n",
       "      <th>timestamp</th>\n",
       "      <th>pid</th>\n",
       "      <th>x</th>\n",
       "      <th>y</th>\n",
       "      <th>z</th>\n",
       "      <th>TAC_Reading</th>\n",
       "      <th>label</th>\n",
       "    </tr>\n",
       "  </thead>\n",
       "  <tbody>\n",
       "    <tr>\n",
       "      <th>0</th>\n",
       "      <td>0</td>\n",
       "      <td>JB3156</td>\n",
       "      <td>0.0000</td>\n",
       "      <td>0.0000</td>\n",
       "      <td>0.0000</td>\n",
       "      <td>0.002387</td>\n",
       "      <td>0</td>\n",
       "    </tr>\n",
       "    <tr>\n",
       "      <th>1</th>\n",
       "      <td>0</td>\n",
       "      <td>CC6740</td>\n",
       "      <td>0.0000</td>\n",
       "      <td>0.0000</td>\n",
       "      <td>0.0000</td>\n",
       "      <td>0.003947</td>\n",
       "      <td>0</td>\n",
       "    </tr>\n",
       "    <tr>\n",
       "      <th>2</th>\n",
       "      <td>1493733882409</td>\n",
       "      <td>SA0297</td>\n",
       "      <td>0.0758</td>\n",
       "      <td>0.0273</td>\n",
       "      <td>-0.0102</td>\n",
       "      <td>0.032672</td>\n",
       "      <td>0</td>\n",
       "    </tr>\n",
       "    <tr>\n",
       "      <th>3</th>\n",
       "      <td>1493733882455</td>\n",
       "      <td>SA0297</td>\n",
       "      <td>-0.0359</td>\n",
       "      <td>0.0794</td>\n",
       "      <td>0.0037</td>\n",
       "      <td>0.032672</td>\n",
       "      <td>0</td>\n",
       "    </tr>\n",
       "    <tr>\n",
       "      <th>4</th>\n",
       "      <td>1493733882500</td>\n",
       "      <td>SA0297</td>\n",
       "      <td>-0.2427</td>\n",
       "      <td>-0.0861</td>\n",
       "      <td>-0.0163</td>\n",
       "      <td>0.032672</td>\n",
       "      <td>0</td>\n",
       "    </tr>\n",
       "  </tbody>\n",
       "</table>\n",
       "</div>"
      ],
      "text/plain": [
       "       timestamp     pid       x       y       z  TAC_Reading  label\n",
       "0              0  JB3156  0.0000  0.0000  0.0000     0.002387      0\n",
       "1              0  CC6740  0.0000  0.0000  0.0000     0.003947      0\n",
       "2  1493733882409  SA0297  0.0758  0.0273 -0.0102     0.032672      0\n",
       "3  1493733882455  SA0297 -0.0359  0.0794  0.0037     0.032672      0\n",
       "4  1493733882500  SA0297 -0.2427 -0.0861 -0.0163     0.032672      0"
      ]
     },
     "execution_count": 60,
     "metadata": {},
     "output_type": "execute_result"
    }
   ],
   "source": [
    "df.head()"
   ]
  },
  {
   "cell_type": "code",
   "execution_count": 61,
   "id": "6b661bf8-e414-4668-ac75-4c845692c860",
   "metadata": {},
   "outputs": [
    {
     "data": {
      "text/plain": [
       "3399189"
      ]
     },
     "execution_count": 61,
     "metadata": {},
     "output_type": "execute_result"
    }
   ],
   "source": [
    "df['label']"
   ]
  },
  {
   "cell_type": "code",
   "execution_count": 62,
   "id": "f2ff9714-4b74-4cb0-8c0a-68cc4624a13a",
   "metadata": {},
   "outputs": [
    {
     "data": {
      "text/plain": [
       "14057567"
      ]
     },
     "execution_count": 62,
     "metadata": {},
     "output_type": "execute_result"
    }
   ],
   "source": [
    "len(df['label'])"
   ]
  },
  {
   "cell_type": "code",
   "execution_count": 64,
   "id": "69c9710b-e220-4ac1-9738-316a1609bddd",
   "metadata": {},
   "outputs": [],
   "source": [
    "df[['timestamp','pid','x','y','z','label']].to_csv('../acceweka-ds/bar-crawl/Bar_Crawl_Labeled.csv', index=False)"
   ]
  },
  {
   "cell_type": "code",
   "execution_count": 65,
   "id": "1e470c0f-c901-4139-b4c0-d298fe8f9183",
   "metadata": {},
   "outputs": [],
   "source": [
    "df = pd.read_csv('../acceweka-ds/physical/6xor_64bit/train_6xor_64dim.csv', header=None)"
   ]
  },
  {
   "cell_type": "code",
   "execution_count": 66,
   "id": "a78ff2b4-36ce-41f7-a14d-01a8d067c141",
   "metadata": {},
   "outputs": [
    {
     "data": {
      "text/html": [
       "<div>\n",
       "<style scoped>\n",
       "    .dataframe tbody tr th:only-of-type {\n",
       "        vertical-align: middle;\n",
       "    }\n",
       "\n",
       "    .dataframe tbody tr th {\n",
       "        vertical-align: top;\n",
       "    }\n",
       "\n",
       "    .dataframe thead th {\n",
       "        text-align: right;\n",
       "    }\n",
       "</style>\n",
       "<table border=\"1\" class=\"dataframe\">\n",
       "  <thead>\n",
       "    <tr style=\"text-align: right;\">\n",
       "      <th></th>\n",
       "      <th>0</th>\n",
       "      <th>1</th>\n",
       "      <th>2</th>\n",
       "      <th>3</th>\n",
       "      <th>4</th>\n",
       "      <th>5</th>\n",
       "      <th>6</th>\n",
       "      <th>7</th>\n",
       "      <th>8</th>\n",
       "      <th>9</th>\n",
       "      <th>...</th>\n",
       "      <th>55</th>\n",
       "      <th>56</th>\n",
       "      <th>57</th>\n",
       "      <th>58</th>\n",
       "      <th>59</th>\n",
       "      <th>60</th>\n",
       "      <th>61</th>\n",
       "      <th>62</th>\n",
       "      <th>63</th>\n",
       "      <th>64</th>\n",
       "    </tr>\n",
       "  </thead>\n",
       "  <tbody>\n",
       "    <tr>\n",
       "      <th>0</th>\n",
       "      <td>1</td>\n",
       "      <td>1</td>\n",
       "      <td>-1</td>\n",
       "      <td>1</td>\n",
       "      <td>-1</td>\n",
       "      <td>-1</td>\n",
       "      <td>-1</td>\n",
       "      <td>1</td>\n",
       "      <td>1</td>\n",
       "      <td>-1</td>\n",
       "      <td>...</td>\n",
       "      <td>1</td>\n",
       "      <td>1</td>\n",
       "      <td>1</td>\n",
       "      <td>1</td>\n",
       "      <td>1</td>\n",
       "      <td>1</td>\n",
       "      <td>1</td>\n",
       "      <td>1</td>\n",
       "      <td>-1</td>\n",
       "      <td>1</td>\n",
       "    </tr>\n",
       "    <tr>\n",
       "      <th>1</th>\n",
       "      <td>-1</td>\n",
       "      <td>1</td>\n",
       "      <td>1</td>\n",
       "      <td>1</td>\n",
       "      <td>1</td>\n",
       "      <td>1</td>\n",
       "      <td>1</td>\n",
       "      <td>1</td>\n",
       "      <td>-1</td>\n",
       "      <td>-1</td>\n",
       "      <td>...</td>\n",
       "      <td>-1</td>\n",
       "      <td>1</td>\n",
       "      <td>-1</td>\n",
       "      <td>1</td>\n",
       "      <td>-1</td>\n",
       "      <td>1</td>\n",
       "      <td>1</td>\n",
       "      <td>-1</td>\n",
       "      <td>1</td>\n",
       "      <td>-1</td>\n",
       "    </tr>\n",
       "    <tr>\n",
       "      <th>2</th>\n",
       "      <td>-1</td>\n",
       "      <td>-1</td>\n",
       "      <td>1</td>\n",
       "      <td>1</td>\n",
       "      <td>-1</td>\n",
       "      <td>1</td>\n",
       "      <td>1</td>\n",
       "      <td>1</td>\n",
       "      <td>1</td>\n",
       "      <td>-1</td>\n",
       "      <td>...</td>\n",
       "      <td>1</td>\n",
       "      <td>-1</td>\n",
       "      <td>1</td>\n",
       "      <td>-1</td>\n",
       "      <td>1</td>\n",
       "      <td>-1</td>\n",
       "      <td>-1</td>\n",
       "      <td>-1</td>\n",
       "      <td>1</td>\n",
       "      <td>1</td>\n",
       "    </tr>\n",
       "    <tr>\n",
       "      <th>3</th>\n",
       "      <td>1</td>\n",
       "      <td>-1</td>\n",
       "      <td>-1</td>\n",
       "      <td>1</td>\n",
       "      <td>-1</td>\n",
       "      <td>1</td>\n",
       "      <td>1</td>\n",
       "      <td>1</td>\n",
       "      <td>-1</td>\n",
       "      <td>1</td>\n",
       "      <td>...</td>\n",
       "      <td>1</td>\n",
       "      <td>-1</td>\n",
       "      <td>1</td>\n",
       "      <td>-1</td>\n",
       "      <td>1</td>\n",
       "      <td>-1</td>\n",
       "      <td>-1</td>\n",
       "      <td>1</td>\n",
       "      <td>-1</td>\n",
       "      <td>-1</td>\n",
       "    </tr>\n",
       "    <tr>\n",
       "      <th>4</th>\n",
       "      <td>1</td>\n",
       "      <td>1</td>\n",
       "      <td>1</td>\n",
       "      <td>-1</td>\n",
       "      <td>-1</td>\n",
       "      <td>-1</td>\n",
       "      <td>-1</td>\n",
       "      <td>1</td>\n",
       "      <td>1</td>\n",
       "      <td>-1</td>\n",
       "      <td>...</td>\n",
       "      <td>-1</td>\n",
       "      <td>1</td>\n",
       "      <td>-1</td>\n",
       "      <td>1</td>\n",
       "      <td>-1</td>\n",
       "      <td>1</td>\n",
       "      <td>-1</td>\n",
       "      <td>-1</td>\n",
       "      <td>1</td>\n",
       "      <td>1</td>\n",
       "    </tr>\n",
       "  </tbody>\n",
       "</table>\n",
       "<p>5 rows × 65 columns</p>\n",
       "</div>"
      ],
      "text/plain": [
       "   0   1   2   3   4   5   6   7   8   9   ...  55  56  57  58  59  60  61  \\\n",
       "0   1   1  -1   1  -1  -1  -1   1   1  -1  ...   1   1   1   1   1   1   1   \n",
       "1  -1   1   1   1   1   1   1   1  -1  -1  ...  -1   1  -1   1  -1   1   1   \n",
       "2  -1  -1   1   1  -1   1   1   1   1  -1  ...   1  -1   1  -1   1  -1  -1   \n",
       "3   1  -1  -1   1  -1   1   1   1  -1   1  ...   1  -1   1  -1   1  -1  -1   \n",
       "4   1   1   1  -1  -1  -1  -1   1   1  -1  ...  -1   1  -1   1  -1   1  -1   \n",
       "\n",
       "   62  63  64  \n",
       "0   1  -1   1  \n",
       "1  -1   1  -1  \n",
       "2  -1   1   1  \n",
       "3   1  -1  -1  \n",
       "4  -1   1   1  \n",
       "\n",
       "[5 rows x 65 columns]"
      ]
     },
     "execution_count": 66,
     "metadata": {},
     "output_type": "execute_result"
    }
   ],
   "source": [
    "df.head()"
   ]
  },
  {
   "cell_type": "code",
   "execution_count": 67,
   "id": "15402b48-e1fe-4f80-b0db-2bff4164f095",
   "metadata": {},
   "outputs": [],
   "source": [
    "df.to_csv('../acceweka-ds/physical/6xor_64bit/train_6xor_64dim.csv', index=False)"
   ]
  },
  {
   "cell_type": "code",
   "execution_count": 68,
   "id": "52d8fb98-fe74-47ba-a5a0-2d2171d9b7e5",
   "metadata": {},
   "outputs": [],
   "source": [
    "df = pd.read_csv('../acceweka-ds/physical/6xor_64bit/test_6xor_64dim.csv', header=None)"
   ]
  },
  {
   "cell_type": "code",
   "execution_count": 69,
   "id": "ffa178e8-8c50-400b-acee-9c9d2e1a076d",
   "metadata": {},
   "outputs": [],
   "source": [
    "df.to_csv('../acceweka-ds/physical/6xor_64bit/test_6xor_64dim.csv', index=False)"
   ]
  },
  {
   "cell_type": "code",
   "execution_count": null,
   "id": "dc59c980-b9ed-423c-8516-2df80e32a8af",
   "metadata": {},
   "outputs": [],
   "source": []
  }
 ],
 "metadata": {
  "kernelspec": {
   "display_name": "Python 3 (ipykernel)",
   "language": "python",
   "name": "python3"
  },
  "language_info": {
   "codemirror_mode": {
    "name": "ipython",
    "version": 3
   },
   "file_extension": ".py",
   "mimetype": "text/x-python",
   "name": "python",
   "nbconvert_exporter": "python",
   "pygments_lexer": "ipython3",
   "version": "3.9.19"
  }
 },
 "nbformat": 4,
 "nbformat_minor": 5
}
